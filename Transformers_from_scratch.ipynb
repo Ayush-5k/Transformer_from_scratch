{
  "cells": [
    {
      "cell_type": "code",
      "execution_count": 48,
      "metadata": {
        "colab": {
          "base_uri": "https://localhost:8080/"
        },
        "id": "556PW1ocQUnY",
        "outputId": "cd9c023f-6f95-44c8-8a4c-38a2349839c1"
      },
      "outputs": [
        {
          "name": "stdout",
          "output_type": "stream",
          "text": [
            "--2025-04-09 18:24:43--  https://raw.githubusercontent.com/karpathy/char-rnn/master/data/tinyshakespeare/input.txt\n",
            "Resolving raw.githubusercontent.com (raw.githubusercontent.com)... 185.199.111.133, 185.199.109.133, 185.199.108.133, ...\n",
            "Connecting to raw.githubusercontent.com (raw.githubusercontent.com)|185.199.111.133|:443... connected.\n",
            "HTTP request sent, awaiting response... 200 OK\n",
            "Length: 1115394 (1.1M) [text/plain]\n",
            "Saving to: ‘input.txt.2’\n",
            "\n",
            "\rinput.txt.2           0%[                    ]       0  --.-KB/s               \rinput.txt.2         100%[===================>]   1.06M  --.-KB/s    in 0.04s   \n",
            "\n",
            "2025-04-09 18:24:43 (25.9 MB/s) - ‘input.txt.2’ saved [1115394/1115394]\n",
            "\n"
          ]
        }
      ],
      "source": [
        "!wget https://raw.githubusercontent.com/karpathy/char-rnn/master/data/tinyshakespeare/input.txt"
      ]
    },
    {
      "cell_type": "code",
      "execution_count": 49,
      "metadata": {
        "id": "qzKPNxM6QgBE"
      },
      "outputs": [],
      "source": [
        "import torch\n",
        "import math"
      ]
    },
    {
      "cell_type": "code",
      "execution_count": 50,
      "metadata": {
        "id": "a6vonip9rMzJ"
      },
      "outputs": [],
      "source": [
        "with open(\"input.txt\", \"r\", encoding = \"utf-8\") as f:\n",
        "  text = f.read()"
      ]
    },
    {
      "cell_type": "code",
      "execution_count": 51,
      "metadata": {
        "colab": {
          "base_uri": "https://localhost:8080/"
        },
        "id": "BM9nvntUrbmP",
        "outputId": "4ce64410-7272-4370-8baf-ee05e76522e6"
      },
      "outputs": [
        {
          "name": "stdout",
          "output_type": "stream",
          "text": [
            "65\n",
            "['\\n', ' ', '!', '$', '&', \"'\", ',', '-', '.', '3', ':', ';', '?', 'A', 'B', 'C', 'D', 'E', 'F', 'G', 'H', 'I', 'J', 'K', 'L', 'M', 'N', 'O', 'P', 'Q', 'R', 'S', 'T', 'U', 'V', 'W', 'X', 'Y', 'Z', 'a', 'b', 'c', 'd', 'e', 'f', 'g', 'h', 'i', 'j', 'k', 'l', 'm', 'n', 'o', 'p', 'q', 'r', 's', 't', 'u', 'v', 'w', 'x', 'y', 'z']\n"
          ]
        }
      ],
      "source": [
        "chars = sorted(list(set(text)))\n",
        "vocab_len = len(chars)\n",
        "print(vocab_len)\n",
        "print(chars)"
      ]
    },
    {
      "cell_type": "code",
      "execution_count": 52,
      "metadata": {
        "id": "F9NGoTz0rlaT"
      },
      "outputs": [],
      "source": [
        "stoi = {ch : i for i, ch in enumerate(chars)}\n",
        "itos = {i : ch for ch, i in stoi.items()}"
      ]
    },
    {
      "cell_type": "code",
      "execution_count": 53,
      "metadata": {
        "id": "pG6PwxcGr8fk"
      },
      "outputs": [],
      "source": [
        "def encode(s):\n",
        "    return [stoi[c] for c in s]\n",
        "\n",
        "def decode(l):\n",
        "    return ''.join([itos[i] for i in l])"
      ]
    },
    {
      "cell_type": "code",
      "execution_count": 54,
      "metadata": {
        "colab": {
          "base_uri": "https://localhost:8080/"
        },
        "id": "cRznH46ysV7T",
        "outputId": "7a55a358-a305-4dd7-ed06-f503a05361ba"
      },
      "outputs": [
        {
          "name": "stdout",
          "output_type": "stream",
          "text": [
            "Sample encoding for 'hello': [46, 43, 50, 50, 53]\n",
            "Decode back: hello\n"
          ]
        }
      ],
      "source": [
        "print(\"Sample encoding for 'hello':\", encode(\"hello\"))\n",
        "print(\"Decode back:\", decode(encode(\"hello\")))"
      ]
    },
    {
      "cell_type": "code",
      "execution_count": 55,
      "metadata": {
        "id": "LL7-Yc-vsbme"
      },
      "outputs": [],
      "source": [
        "data = torch.tensor(encode(text), dtype = torch.long)\n",
        "n = int(0.9 * len(data))\n",
        "train_data = data[:n]\n",
        "val_data = data[n:]"
      ]
    },
    {
      "cell_type": "code",
      "execution_count": 56,
      "metadata": {
        "id": "SFrL2mHOwdip"
      },
      "outputs": [],
      "source": [
        "block_size = 8\n",
        "batch_size = 4\n",
        "\n",
        "def get_batch(split):\n",
        "  data_split = train_data if split == \"train\" else val_data\n",
        "\n",
        "  input_x = torch.randint(len(data_split) - block_size - 1, (batch_size,))\n",
        "  x = torch.stack([data_split[i:i + block_size] for i in input_x])\n",
        "  y = torch.stack([data_split[i+1:i+block_size+1] for i in input_x])\n",
        "  return x, y\n"
      ]
    },
    {
      "cell_type": "code",
      "execution_count": 57,
      "metadata": {
        "colab": {
          "base_uri": "https://localhost:8080/"
        },
        "id": "XeNeM9wnxoxR",
        "outputId": "82228b22-06c2-4224-a730-5ee2a716c337"
      },
      "outputs": [
        {
          "name": "stdout",
          "output_type": "stream",
          "text": [
            "\n",
            "Input  : r my eye\n",
            "Target :  my eyes\n",
            "\n",
            "Input  : ple, whi\n",
            "Target : le, whic\n",
            "\n",
            "Input  : e too, b\n",
            "Target :  too, bu\n",
            "\n",
            "Input  : as enemi\n",
            "Target : s enemie\n"
          ]
        }
      ],
      "source": [
        "x, y = get_batch(\"train\")\n",
        "for i in range(batch_size):\n",
        "    print(f\"\\nInput  : {decode(x[i].tolist())}\")\n",
        "    print(f\"Target : {decode(y[i].tolist())}\")"
      ]
    },
    {
      "cell_type": "code",
      "execution_count": 58,
      "metadata": {
        "id": "mEx2XtD6xrSG"
      },
      "outputs": [],
      "source": [
        "import torch.nn as nn\n",
        "\n",
        "class TransformerEmbedding(nn.Module):\n",
        "  def __init__(self, vocab_len, embed_dim, block_size):\n",
        "    super().__init__()\n",
        "    self.token_embed = nn.Embedding(vocab_len, embed_dim)\n",
        "    self.pos_embed = nn.Embedding(block_size, embed_dim)\n",
        "\n",
        "  def forward(self, x):\n",
        "    B, T = x.shape\n",
        "    token_emb = self.token_embed(x)\n",
        "    positions = torch.arange(T, device = x.device)\n",
        "    pos_emb = self.pos_embed(positions)\n",
        "    return token_emb + pos_emb"
      ]
    },
    {
      "cell_type": "code",
      "execution_count": 59,
      "metadata": {
        "id": "SrrSiXl6b0VW"
      },
      "outputs": [],
      "source": [
        "class PositionalEncoding(nn.Module):\n",
        "    def __init__(self, embed_dim, max_len=5000):\n",
        "        super().__init__()\n",
        "\n",
        "        pe = torch.zeros(max_len, embed_dim)\n",
        "        position = torch.arange(0, max_len, dtype=torch.float).unsqueeze(1)\n",
        "        div_term = torch.exp(torch.arange(0, embed_dim, 2).float() * (-math.log(10000.0) / embed_dim))\n",
        "\n",
        "        pe[:, 0::2] = torch.sin(position * div_term)\n",
        "        pe[:, 1::2] = torch.cos(position * div_term)\n",
        "        pe = pe.unsqueeze(0)\n",
        "\n",
        "        self.register_buffer('pe', pe)\n",
        "\n",
        "    def forward(self):\n",
        "        return self.pe\n"
      ]
    },
    {
      "cell_type": "code",
      "execution_count": 60,
      "metadata": {
        "id": "h0zdIVn_0GQP"
      },
      "outputs": [],
      "source": [
        "import torch.nn.functional as F\n",
        "\n",
        "class SelfAttentionHead(nn.Module):\n",
        "  def __init__(self, embed_dim, head_size, block_size):\n",
        "    super().__init__()\n",
        "    self.query = nn.Linear(embed_dim, head_size, bias = False)\n",
        "    self.key = nn.Linear(embed_dim, head_size, bias = False)\n",
        "    self.value = nn.Linear(embed_dim, head_size, bias = False)\n",
        "\n",
        "    self.register_buffer(\"tril\", torch.tril(torch.ones(block_size, block_size)))\n",
        "    self.dropout = nn.Dropout(0.1)\n",
        "\n",
        "  def forward(self, x):\n",
        "    B, T, C = x.shape\n",
        "    q = self.query(x)\n",
        "    k = self.key(x)\n",
        "\n",
        "    att = q @ k.transpose(-2, -1)\n",
        "    att = att / (k.shape[-1] ** 0.5)\n",
        "    att = att.masked_fill(self.tril[:T, :T] == 0, float('-inf'))\n",
        "\n",
        "    att = F.softmax(att, dim = -1)\n",
        "    att = self.dropout(att)\n",
        "\n",
        "\n",
        "    v = self.value(x)\n",
        "    out = att @ v\n",
        "\n",
        "    return out\n"
      ]
    },
    {
      "cell_type": "code",
      "execution_count": 61,
      "metadata": {
        "id": "bmp4nAhUMswS"
      },
      "outputs": [],
      "source": [
        "class MultiHeadAttention(nn.Module):\n",
        "  def __init__(self, num_heads, embed_dim, head_size, block_size):\n",
        "    super().__init__()\n",
        "    self.heads = nn.ModuleList([\n",
        "        SelfAttentionHead(embed_dim, head_size, block_size)\n",
        "        for _ in range(num_heads)\n",
        "    ])\n",
        "    self.proj = nn.Linear(num_heads * head_size, embed_dim)\n",
        "    self.dropout = nn.Dropout(0.1)\n",
        "\n",
        "  def forward(self, x):\n",
        "    out = torch.cat([head(x) for head in self.heads], dim = -1)\n",
        "    out = self.proj(out)\n",
        "\n",
        "    return self.dropout(out)"
      ]
    },
    {
      "cell_type": "code",
      "execution_count": 62,
      "metadata": {
        "id": "SdUgyUVLPPRn"
      },
      "outputs": [],
      "source": [
        "class FeedForward(nn.Module):\n",
        "  def __init__(self, embed_dim, hidden_dim):\n",
        "    super().__init__()\n",
        "    self.net = nn.Sequential(\n",
        "        nn.Linear(embed_dim, hidden_dim),\n",
        "        nn.ReLU(),\n",
        "        nn.Linear(hidden_dim, embed_dim),\n",
        "        nn.Dropout(0.1)\n",
        "    )\n",
        "  def forward(self, x):\n",
        "    return self.net(x)"
      ]
    },
    {
      "cell_type": "code",
      "execution_count": 63,
      "metadata": {
        "id": "xGgVSIQtUGPD"
      },
      "outputs": [],
      "source": [
        "class TransformerBlock(nn.Module):\n",
        "  def __init__(self, embed_dim, num_heads, head_size, block_size, ff_hidden_dim):\n",
        "    super().__init__()\n",
        "    self.attn = MultiHeadAttention(num_heads, embed_dim, head_size, block_size)\n",
        "    self.ff = FeedForward(embed_dim, ff_hidden_dim)\n",
        "    self.ln1 = nn.LayerNorm(embed_dim)\n",
        "    self.ln2 = nn.LayerNorm(embed_dim)\n",
        "\n",
        "  def forward(self, x):\n",
        "    x = x + self.attn(self.ln1(x))\n",
        "    x = x + self.ff(self.ln2(x))\n",
        "    return x\n"
      ]
    },
    {
      "cell_type": "code",
      "execution_count": 64,
      "metadata": {
        "id": "iGJvVUQsZcAH"
      },
      "outputs": [],
      "source": [
        "class TransformerModel(nn.Module):\n",
        "    def __init__(self, vocab_size, embed_dim, block_size, num_heads, head_size, ff_hidden_dim, num_layers):\n",
        "        super().__init__()\n",
        "        self.token_embedding = nn.Embedding(vocab_size, embed_dim)\n",
        "        self.positional_encoding = PositionalEncoding(embed_dim, block_size)\n",
        "\n",
        "        self.blocks = nn.Sequential(*[\n",
        "            TransformerBlock(embed_dim, num_heads, head_size, block_size, ff_hidden_dim)\n",
        "            for _ in range(num_layers)\n",
        "        ])\n",
        "\n",
        "        self.ln_f = nn.LayerNorm(embed_dim)\n",
        "        self.head = nn.Linear(embed_dim, vocab_size)\n",
        "\n",
        "    def forward(self, idx):\n",
        "        B, T = idx.shape\n",
        "        token_emb = self.token_embedding(idx)\n",
        "        pos_enc = self.positional_encoding()[:, :T, :]\n",
        "        x = token_emb + pos_enc\n",
        "\n",
        "        x = self.blocks(x)\n",
        "        x = self.ln_f(x)\n",
        "        logits = self.head(x)\n",
        "        return logits\n"
      ]
    },
    {
      "cell_type": "code",
      "execution_count": 65,
      "metadata": {
        "id": "oBZCARq_evhh"
      },
      "outputs": [],
      "source": [
        "batch_size = 64\n",
        "block_size = 128\n",
        "embed_dim = 128\n",
        "num_heads = 4\n",
        "head_size = embed_dim // num_heads\n",
        "ff_hidden_dim = 4 * embed_dim\n",
        "num_layers = 4\n",
        "learning_rate = 3e-4\n",
        "num_epochs = 5000"
      ]
    },
    {
      "cell_type": "code",
      "execution_count": 66,
      "metadata": {
        "id": "sk1W6wlrfNMf"
      },
      "outputs": [],
      "source": [
        "model = TransformerModel(\n",
        "    vocab_size=vocab_len,\n",
        "    embed_dim=embed_dim,\n",
        "    block_size=block_size,\n",
        "    num_heads=num_heads,\n",
        "    head_size=head_size,\n",
        "    ff_hidden_dim=ff_hidden_dim,\n",
        "    num_layers=num_layers\n",
        ")\n",
        "\n",
        "device = 'cuda' if torch.cuda.is_available() else 'cpu'\n",
        "model = model.to(device)\n",
        "\n",
        "optimizer = torch.optim.AdamW(model.parameters(), lr=learning_rate)\n",
        "loss_fn = nn.CrossEntropyLoss()"
      ]
    },
    {
      "cell_type": "code",
      "execution_count": 67,
      "metadata": {
        "id": "_NyxKcY3fOn7"
      },
      "outputs": [],
      "source": [
        "def get_batch(data, batch_size, block_size):\n",
        "    ix = torch.randint(len(data) - block_size, (batch_size,))\n",
        "    x = torch.stack([data[i:i+block_size] for i in ix])\n",
        "    y = torch.stack([data[i+1:i+block_size+1] for i in ix])\n",
        "    return x.to(device), y.to(device)"
      ]
    },
    {
      "cell_type": "code",
      "execution_count": 68,
      "metadata": {
        "colab": {
          "base_uri": "https://localhost:8080/"
        },
        "id": "vb0ARGIUrGRH",
        "outputId": "c5c12149-e647-4d6d-c478-88c124488173"
      },
      "outputs": [
        {
          "name": "stdout",
          "output_type": "stream",
          "text": [
            "Step 0: loss = 4.3766\n",
            "Step 50: loss = 2.7799\n",
            "Step 100: loss = 2.6025\n",
            "Step 150: loss = 2.5374\n",
            "Step 200: loss = 2.4791\n",
            "Step 250: loss = 2.4548\n",
            "Step 300: loss = 2.4308\n",
            "Step 350: loss = 2.3257\n",
            "Step 400: loss = 2.3352\n",
            "Step 450: loss = 2.2982\n",
            "Step 500: loss = 2.2463\n",
            "Step 550: loss = 2.2517\n",
            "Step 600: loss = 2.1965\n",
            "Step 650: loss = 2.1967\n",
            "Step 700: loss = 2.1100\n",
            "Step 750: loss = 2.1339\n",
            "Step 800: loss = 2.0692\n",
            "Step 850: loss = 2.0474\n",
            "Step 900: loss = 2.0350\n",
            "Step 950: loss = 2.0291\n",
            "Step 1000: loss = 1.9806\n",
            "Step 1050: loss = 2.0298\n",
            "Step 1100: loss = 1.9667\n",
            "Step 1150: loss = 1.9613\n",
            "Step 1200: loss = 1.9524\n",
            "Step 1250: loss = 1.8702\n",
            "Step 1300: loss = 1.9279\n",
            "Step 1350: loss = 1.9534\n",
            "Step 1400: loss = 1.9036\n",
            "Step 1450: loss = 1.8792\n",
            "Step 1500: loss = 1.7851\n",
            "Step 1550: loss = 1.8418\n",
            "Step 1600: loss = 1.8581\n",
            "Step 1650: loss = 1.7930\n",
            "Step 1700: loss = 1.7823\n",
            "Step 1750: loss = 1.8459\n",
            "Step 1800: loss = 1.8425\n",
            "Step 1850: loss = 1.8257\n",
            "Step 1900: loss = 1.7885\n",
            "Step 1950: loss = 1.7968\n",
            "Step 2000: loss = 1.8092\n",
            "Step 2050: loss = 1.7698\n",
            "Step 2100: loss = 1.7293\n",
            "Step 2150: loss = 1.7715\n",
            "Step 2200: loss = 1.7303\n",
            "Step 2250: loss = 1.7177\n",
            "Step 2300: loss = 1.7033\n",
            "Step 2350: loss = 1.6883\n",
            "Step 2400: loss = 1.7486\n",
            "Step 2450: loss = 1.6754\n",
            "Step 2500: loss = 1.7068\n",
            "Step 2550: loss = 1.6764\n",
            "Step 2600: loss = 1.6902\n",
            "Step 2650: loss = 1.6163\n",
            "Step 2700: loss = 1.6642\n",
            "Step 2750: loss = 1.6697\n",
            "Step 2800: loss = 1.6426\n",
            "Step 2850: loss = 1.6316\n",
            "Step 2900: loss = 1.6550\n",
            "Step 2950: loss = 1.6124\n",
            "Step 3000: loss = 1.6463\n",
            "Step 3050: loss = 1.6360\n",
            "Step 3100: loss = 1.6066\n",
            "Step 3150: loss = 1.6321\n",
            "Step 3200: loss = 1.6341\n",
            "Step 3250: loss = 1.6640\n",
            "Step 3300: loss = 1.6429\n",
            "Step 3350: loss = 1.6358\n",
            "Step 3400: loss = 1.6082\n",
            "Step 3450: loss = 1.5524\n",
            "Step 3500: loss = 1.6302\n",
            "Step 3550: loss = 1.7029\n",
            "Step 3600: loss = 1.6448\n",
            "Step 3650: loss = 1.5655\n",
            "Step 3700: loss = 1.6064\n",
            "Step 3750: loss = 1.5635\n",
            "Step 3800: loss = 1.6102\n",
            "Step 3850: loss = 1.6525\n",
            "Step 3900: loss = 1.5941\n",
            "Step 3950: loss = 1.5371\n",
            "Step 4000: loss = 1.5589\n",
            "Step 4050: loss = 1.5895\n",
            "Step 4100: loss = 1.5647\n",
            "Step 4150: loss = 1.5562\n",
            "Step 4200: loss = 1.5757\n",
            "Step 4250: loss = 1.5256\n",
            "Step 4300: loss = 1.6103\n",
            "Step 4350: loss = 1.5596\n",
            "Step 4400: loss = 1.5632\n",
            "Step 4450: loss = 1.6057\n",
            "Step 4500: loss = 1.5099\n",
            "Step 4550: loss = 1.5763\n",
            "Step 4600: loss = 1.5345\n",
            "Step 4650: loss = 1.5510\n",
            "Step 4700: loss = 1.4941\n",
            "Step 4750: loss = 1.5637\n",
            "Step 4800: loss = 1.5373\n",
            "Step 4850: loss = 1.5565\n",
            "Step 4900: loss = 1.5710\n",
            "Step 4950: loss = 1.5123\n",
            "Step 5000: loss = 1.5331\n",
            "Step 5050: loss = 1.4942\n",
            "Step 5100: loss = 1.5165\n",
            "Step 5150: loss = 1.5073\n",
            "Step 5200: loss = 1.4717\n",
            "Step 5250: loss = 1.5356\n",
            "Step 5300: loss = 1.5402\n",
            "Step 5350: loss = 1.5290\n",
            "Step 5400: loss = 1.5261\n",
            "Step 5450: loss = 1.5534\n",
            "Step 5500: loss = 1.5528\n",
            "Step 5550: loss = 1.4906\n",
            "Step 5600: loss = 1.4481\n",
            "Step 5650: loss = 1.5003\n",
            "Step 5700: loss = 1.5061\n",
            "Step 5750: loss = 1.5132\n",
            "Step 5800: loss = 1.5283\n",
            "Step 5850: loss = 1.5099\n",
            "Step 5900: loss = 1.5434\n",
            "Step 5950: loss = 1.4568\n",
            "Step 6000: loss = 1.4947\n",
            "Step 6050: loss = 1.4855\n",
            "Step 6100: loss = 1.5151\n",
            "Step 6150: loss = 1.4826\n",
            "Step 6200: loss = 1.4780\n",
            "Step 6250: loss = 1.3780\n",
            "Step 6300: loss = 1.5301\n",
            "Step 6350: loss = 1.4899\n",
            "Step 6400: loss = 1.4803\n",
            "Step 6450: loss = 1.5536\n",
            "Step 6500: loss = 1.4688\n",
            "Step 6550: loss = 1.4712\n",
            "Step 6600: loss = 1.4900\n",
            "Step 6650: loss = 1.5106\n",
            "Step 6700: loss = 1.4495\n",
            "Step 6750: loss = 1.4642\n",
            "Step 6800: loss = 1.4764\n",
            "Step 6850: loss = 1.5002\n",
            "Step 6900: loss = 1.4831\n",
            "Step 6950: loss = 1.4582\n",
            "Step 7000: loss = 1.4500\n",
            "Step 7050: loss = 1.3948\n",
            "Step 7100: loss = 1.5690\n",
            "Step 7150: loss = 1.4607\n",
            "Step 7200: loss = 1.4754\n",
            "Step 7250: loss = 1.4706\n",
            "Step 7300: loss = 1.4333\n",
            "Step 7350: loss = 1.4497\n",
            "Step 7400: loss = 1.5058\n",
            "Step 7450: loss = 1.4642\n",
            "Step 7500: loss = 1.5386\n",
            "Step 7550: loss = 1.4478\n",
            "Step 7600: loss = 1.4971\n",
            "Step 7650: loss = 1.4430\n",
            "Step 7700: loss = 1.4501\n",
            "Step 7750: loss = 1.4908\n",
            "Step 7800: loss = 1.4237\n",
            "Step 7850: loss = 1.4714\n",
            "Step 7900: loss = 1.4584\n",
            "Step 7950: loss = 1.4192\n",
            "Step 8000: loss = 1.4401\n",
            "Step 8050: loss = 1.4505\n",
            "Step 8100: loss = 1.4437\n",
            "Step 8150: loss = 1.4257\n",
            "Step 8200: loss = 1.3872\n",
            "Step 8250: loss = 1.4540\n",
            "Step 8300: loss = 1.4198\n",
            "Step 8350: loss = 1.4433\n",
            "Step 8400: loss = 1.4003\n",
            "Step 8450: loss = 1.4601\n",
            "Step 8500: loss = 1.4570\n",
            "Step 8550: loss = 1.4736\n",
            "Step 8600: loss = 1.4759\n",
            "Step 8650: loss = 1.4438\n",
            "Step 8700: loss = 1.4423\n",
            "Step 8750: loss = 1.4234\n",
            "Step 8800: loss = 1.3921\n",
            "Step 8850: loss = 1.4343\n",
            "Step 8900: loss = 1.3849\n",
            "Step 8950: loss = 1.4270\n",
            "Step 9000: loss = 1.4465\n",
            "Step 9050: loss = 1.3831\n",
            "Step 9100: loss = 1.4410\n",
            "Step 9150: loss = 1.3803\n",
            "Step 9200: loss = 1.4719\n",
            "Step 9250: loss = 1.4534\n",
            "Step 9300: loss = 1.3921\n",
            "Step 9350: loss = 1.4030\n",
            "Step 9400: loss = 1.4169\n",
            "Step 9450: loss = 1.4513\n",
            "Step 9500: loss = 1.3969\n",
            "Step 9550: loss = 1.3519\n",
            "Step 9600: loss = 1.4718\n",
            "Step 9650: loss = 1.4161\n",
            "Step 9700: loss = 1.4063\n",
            "Step 9750: loss = 1.3939\n",
            "Step 9800: loss = 1.4377\n",
            "Step 9850: loss = 1.3930\n",
            "Step 9900: loss = 1.4590\n",
            "Step 9950: loss = 1.4225\n"
          ]
        }
      ],
      "source": [
        "max_iters = 10000\n",
        "eval_interval = 50\n",
        "batch_size = 32\n",
        "\n",
        "for step in range(max_iters):\n",
        "    xb, yb = get_batch(train_data, batch_size, block_size)\n",
        "\n",
        "    logits = model(xb)\n",
        "    B, T, C = logits.shape\n",
        "    loss = loss_fn(logits.view(B*T, C), yb.view(B*T))\n",
        "\n",
        "    optimizer.zero_grad()\n",
        "    loss.backward()\n",
        "    optimizer.step()\n",
        "\n",
        "    if step % eval_interval == 0:\n",
        "        print(f\"Step {step}: loss = {loss.item():.4f}\")"
      ]
    },
    {
      "cell_type": "code",
      "execution_count": 69,
      "metadata": {
        "id": "ycwhy_Ahrq3e"
      },
      "outputs": [],
      "source": [
        "@torch.no_grad()\n",
        "def generate(model, start_token, max_new_tokens):\n",
        "    model.eval()\n",
        "    generated = torch.tensor(start_token, dtype=torch.long, device=device).unsqueeze(0)\n",
        "\n",
        "    for _ in range(max_new_tokens):\n",
        "\n",
        "        context = generated[:, -block_size:]\n",
        "\n",
        "        logits = model(context)\n",
        "        logits = logits[:, -1, :]\n",
        "        probs = torch.softmax(logits, dim=-1)\n",
        "\n",
        "        next_token = torch.multinomial(probs, num_samples=1)\n",
        "        generated = torch.cat((generated, next_token), dim=1)\n",
        "\n",
        "    return generated[0].tolist()"
      ]
    },
    {
      "cell_type": "code",
      "execution_count": 70,
      "metadata": {
        "colab": {
          "base_uri": "https://localhost:8080/"
        },
        "id": "mwkMf5HOrtIy",
        "outputId": "15632bb6-6559-46f5-9dfa-a11f0af52932"
      },
      "outputs": [
        {
          "name": "stdout",
          "output_type": "stream",
          "text": [
            "The king, deaths, come the duke thee?\n",
            "\n",
            "GLOUCESTER:\n",
            "Madam, though I wash a wagmany, and sensel in those,\n",
            "Make\n"
          ]
        }
      ],
      "source": [
        "start = encode(\"The king\")\n",
        "out = generate(model, start, max_new_tokens=100)\n",
        "print(decode(out))"
      ]
    }
  ],
  "metadata": {
    "accelerator": "GPU",
    "colab": {
      "gpuType": "T4",
      "provenance": []
    },
    "kernelspec": {
      "display_name": "Python 3",
      "name": "python3"
    },
    "language_info": {
      "name": "python"
    }
  },
  "nbformat": 4,
  "nbformat_minor": 0
}
